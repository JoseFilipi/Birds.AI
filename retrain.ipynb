{
 "cells": [
  {
   "cell_type": "code",
   "execution_count": 1,
   "metadata": {},
   "outputs": [
    {
     "name": "stderr",
     "output_type": "stream",
     "text": [
      "2024-06-10 22:20:55.110798: I tensorflow/core/util/port.cc:110] oneDNN custom operations are on. You may see slightly different numerical results due to floating-point round-off errors from different computation orders. To turn them off, set the environment variable `TF_ENABLE_ONEDNN_OPTS=0`.\n",
      "2024-06-10 22:20:55.187996: I tensorflow/tsl/cuda/cudart_stub.cc:28] Could not find cuda drivers on your machine, GPU will not be used.\n",
      "2024-06-10 22:20:55.654782: I tensorflow/tsl/cuda/cudart_stub.cc:28] Could not find cuda drivers on your machine, GPU will not be used.\n",
      "2024-06-10 22:20:55.656991: I tensorflow/core/platform/cpu_feature_guard.cc:182] This TensorFlow binary is optimized to use available CPU instructions in performance-critical operations.\n",
      "To enable the following instructions: AVX2 AVX512F AVX512_VNNI FMA, in other operations, rebuild TensorFlow with the appropriate compiler flags.\n",
      "2024-06-10 22:21:00.940261: W tensorflow/compiler/tf2tensorrt/utils/py_utils.cc:38] TF-TRT Warning: Could not find TensorRT\n"
     ]
    }
   ],
   "source": [
    "import os\n",
    "from typing import List\n",
    "from tensorflow.keras.preprocessing.image import ImageDataGenerator\n",
    "import keras\n",
    "from keras.callbacks import EarlyStopping\n",
    "from torchvision import datasets, transforms\n",
    "import torch\n",
    "from torch.utils.data import DataLoader, sampler, random_split\n",
    "import time\n",
    "import copy\n",
    "from tqdm import tqdm\n",
    "from torch import nn, optim"
   ]
  },
  {
   "cell_type": "code",
   "execution_count": 2,
   "metadata": {},
   "outputs": [
    {
     "name": "stdout",
     "output_type": "stream",
     "text": [
      "Found 11 images belonging to 525 classes.\n",
      "Found 2625 images belonging to 525 classes.\n"
     ]
    }
   ],
   "source": [
    "original_dataset_path = os.path.join(\".\", \"dataset\")\n",
    "class_names = sorted(os.listdir(os.path.join(original_dataset_path, \"train\")))\n",
    "validation_dir = os.path.join(original_dataset_path, \"valid\")\n",
    "\n",
    "to_train_dir = os.path.join(\".\", \"pipes\", \"to-train\")\n",
    "\n",
    "train_gen = ImageDataGenerator(rescale=1./255)\n",
    "train_data = train_gen.flow_from_directory(\n",
    "  to_train_dir,\n",
    "  target_size=(224,224),\n",
    "  batch_size=32,\n",
    "  class_mode=\"categorical\",\n",
    "  shuffle=True,\n",
    "  classes=class_names,\n",
    ")\n",
    "\n",
    "val_gen = ImageDataGenerator(rescale=1./255)\n",
    "val_data = val_gen.flow_from_directory(\n",
    "  validation_dir,\n",
    "  target_size=(224,224),\n",
    "  batch_size=32,\n",
    "  class_mode=\"categorical\",\n",
    "  shuffle=True,\n",
    "  classes=class_names,\n",
    ")"
   ]
  },
  {
   "cell_type": "code",
   "execution_count": 3,
   "metadata": {},
   "outputs": [
    {
     "name": "stdout",
     "output_type": "stream",
     "text": [
      "1/1 [==============================] - 5s 5s/step - loss: 1.1921 - accuracy: 0.8182 - precision: 0.7500 - recall: 0.5455\n"
     ]
    }
   ],
   "source": [
    "callbacks = [EarlyStopping(monitor='accuracy' , patience=5 , restore_best_weights=True)]\n",
    "model01 = keras.saving.load_model(os.path.join(\".\", \"models\", \"modelo01.h5\"))\n",
    "history01 = model01.fit(\n",
    "  train_data,\n",
    "  epochs=max(1, int(len(train_data)/1000)),\n",
    "  batch_size=32,\n",
    "  callbacks=callbacks\n",
    ")"
   ]
  },
  {
   "cell_type": "code",
   "execution_count": 4,
   "metadata": {},
   "outputs": [
    {
     "data": {
      "text/plain": [
       "device(type='cpu')"
      ]
     },
     "execution_count": 4,
     "metadata": {},
     "output_type": "execute_result"
    }
   ],
   "source": [
    "device = torch.device('cuda' if torch.cuda.is_available() else 'cpu')\n",
    "device"
   ]
  },
  {
   "cell_type": "code",
   "execution_count": 5,
   "metadata": {},
   "outputs": [],
   "source": [
    "class CustomImageFolder(datasets.ImageFolder):\n",
    "  def __init__(self, root, transform=None, target_transform=None, classes=List[str]):\n",
    "    super().__init__(root, transform=transform, target_transform=target_transform)\n",
    "    self.class_to_idx = {c: i for i, c in enumerate(classes)}\n",
    "    self.samples = [(path, self.class_to_idx[path.split('/')[-2]]) for path, target in self.samples if path.split('/')[-2] in self.class_to_idx]\n",
    "    self.targets = [s[1] for s in self.samples]\n",
    "\n",
    "def train_model(model, criterion, optimizer, scheduler, num_epochs=25):\n",
    "  transform = transforms.Compose([\n",
    "    transforms.RandomHorizontalFlip(p=0.5),\n",
    "    transforms.RandomVerticalFlip(p=0.5),\n",
    "    transforms.RandomApply(torch.nn.ModuleList([transforms.ColorJitter(), \n",
    "                                                transforms.GaussianBlur(3)]), p=0.1),\n",
    "    transforms.Resize(256),\n",
    "    transforms.CenterCrop(240),\n",
    "    transforms.ToTensor(),\n",
    "    transforms.Normalize((0.485, 0.456, 0.406), (0.229, 0.224, 0.225)),\n",
    "    transforms.RandomErasing(p=0.14, value='random')\n",
    "  ])\n",
    "  train_data = CustomImageFolder(to_train_dir, transform=transform, classes=class_names)\n",
    "  print(f\"Found {len(train_data)} images for training with {len(train_data.classes)} classes\")\n",
    "  train_loader = DataLoader(train_data, batch_size=32, shuffle=True, num_workers=2, pin_memory=True)\n",
    "\n",
    "  since = time.time()\n",
    "\n",
    "  best_model_wts = copy.deepcopy(model.state_dict())\n",
    "  best_acc = 0.0\n",
    "\n",
    "  for epoch in range(num_epochs):\n",
    "    print('Epoch {}/{}'.format(epoch+1, num_epochs))\n",
    "    print('-' * 10)\n",
    "    model.train()\n",
    "\n",
    "    running_loss = 0.0\n",
    "    running_corrects = 0\n",
    "\n",
    "    for inputs, labels in tqdm(train_loader):\n",
    "      inputs = inputs.to(device)\n",
    "      labels = labels.to(device)\n",
    "      optimizer.zero_grad()\n",
    "\n",
    "      with torch.set_grad_enabled(True):\n",
    "        outputs = model(inputs)\n",
    "        _, preds = torch.max(outputs, 1)\n",
    "        loss = criterion(outputs, labels)\n",
    "        loss.backward()\n",
    "        optimizer.step()\n",
    "\n",
    "      running_loss += loss.item() * inputs.size(0)\n",
    "      running_corrects += torch.sum(preds == labels.data)\n",
    "    scheduler.step()\n",
    "\n",
    "    epoch_loss = running_loss / len(train_data)\n",
    "    epoch_acc = running_corrects.double() / len(train_data)\n",
    "\n",
    "    print(f'Train Loss: {epoch_loss:.4f} Acc: {epoch_acc:.4f}')\n",
    "\n",
    "    if epoch_acc > best_acc:\n",
    "      best_acc = epoch_acc\n",
    "      best_model_wts = copy.deepcopy(model.state_dict())\n",
    "\n",
    "  print()\n",
    "\n",
    "  time_elapsed = time.time() - since\n",
    "  print(f'Training complete in {time_elapsed // 60:.0f}m {time_elapsed % 60:.0f}s')\n",
    "  print(f'Best val Acc: {best_acc:4f}')\n",
    "\n",
    "  model.load_state_dict(best_model_wts)\n",
    "  return model"
   ]
  },
  {
   "cell_type": "code",
   "execution_count": 6,
   "metadata": {},
   "outputs": [
    {
     "name": "stdout",
     "output_type": "stream",
     "text": [
      "Found 11 images for training with 7 classes\n",
      "Epoch 1/1\n",
      "----------\n"
     ]
    },
    {
     "name": "stderr",
     "output_type": "stream",
     "text": [
      "100%|██████████| 1/1 [00:02<00:00,  2.10s/it]\n"
     ]
    },
    {
     "name": "stdout",
     "output_type": "stream",
     "text": [
      "Train Loss: 2.1970 Acc: 0.8182\n",
      "\n",
      "Training complete in 0m 2s\n",
      "Best val Acc: 0.818182\n"
     ]
    }
   ],
   "source": [
    "model02 = torch.jit.load(os.path.join(\".\", \"models\", \"model02.zip\"))\n",
    "\n",
    "criterion = nn.CrossEntropyLoss(label_smoothing=0.11)\n",
    "criterion = criterion.to(device)\n",
    "optimizer = optim.AdamW(model02.classifier.parameters(), lr=0.001)\n",
    "scheduler = optim.lr_scheduler.StepLR(optimizer, step_size=3, gamma=0.5)\n",
    "model02 = train_model(model02, criterion, optimizer, scheduler, max(1, int(len(train_data)/500)))"
   ]
  },
  {
   "cell_type": "code",
   "execution_count": 8,
   "metadata": {},
   "outputs": [],
   "source": [
    "res = input(\"Você deseja salvar o modelo? [Y/N] \").lower()\n",
    "if res == 'y':\n",
    "  modelsPath = os.path.join(\".\", \"models\")\n",
    "  os.rename(os.path.join(modelsPath, \"modelo01.h5\"), os.path.join(modelsPath, \"old-modelo01.h5\"))\n",
    "  model01.save(os.path.join(modelsPath, \"modelo01.h5\"))\n",
    "\n",
    "  scripted_model02 = torch.jit.script(model02)\n",
    "  os.rename(os.path.join(modelsPath, \"model02.zip\"), os.path.join(modelsPath, \"old-modelo02.zip\"))\n",
    "  torch.jit.save(scripted_model02, os.path.join(modelsPath, \"modelo02.zip\"))"
   ]
  }
 ],
 "metadata": {
  "kernelspec": {
   "display_name": "Python 3",
   "language": "python",
   "name": "python3"
  },
  "language_info": {
   "codemirror_mode": {
    "name": "ipython",
    "version": 3
   },
   "file_extension": ".py",
   "mimetype": "text/x-python",
   "name": "python",
   "nbconvert_exporter": "python",
   "pygments_lexer": "ipython3",
   "version": "3.8.10"
  }
 },
 "nbformat": 4,
 "nbformat_minor": 2
}
